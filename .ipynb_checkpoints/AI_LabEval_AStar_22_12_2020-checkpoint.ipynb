{
 "cells": [
  {
   "cell_type": "code",
   "execution_count": 1,
   "metadata": {},
   "outputs": [],
   "source": [
    "class Node():\n",
    "\n",
    "    def __init__(self, parent=None, position=None):\n",
    "        self.parent = parent\n",
    "        self.position = position\n",
    "\n",
    "        self.g = 0\n",
    "        self.h = 0\n",
    "        self.f = 0\n",
    "\n",
    "    def __eq__(self, other):\n",
    "        return self.position == other.position"
   ]
  },
  {
   "cell_type": "code",
   "execution_count": 2,
   "metadata": {},
   "outputs": [],
   "source": [
    "def Astar(maze, start, end):\n",
    "    \"\"\"Returns a list of tuples as a path from the given start to the given end in the given maze\"\"\"\n",
    "\n",
    "    # Create start and end node\n",
    "    start_node = Node(None, start)\n",
    "    start_node.g = start_node.h = start_node.f = 0\n",
    "    end_node = Node(None, end)\n",
    "    end_node.g = end_node.h = end_node.f = 0\n",
    "\n",
    "    # Initialize both open and closed list\n",
    "    open_list = []\n",
    "    closed_list = []\n",
    "\n",
    "    # Add the start node\n",
    "    open_list.append(start_node)\n",
    "\n",
    "    # Loop until you find the end\n",
    "    while len(open_list) > 0:\n",
    "\n",
    "        # Get the current node\n",
    "        current_node = open_list[0]\n",
    "        current_index = 0\n",
    "        for index, item in enumerate(open_list):\n",
    "            if item.f < current_node.f:\n",
    "                current_node = item\n",
    "                current_index = index\n",
    "\n",
    "        # Pop current off open list, add to closed list\n",
    "        open_list.pop(current_index)\n",
    "        closed_list.append(current_node)\n",
    "\n",
    "        # Found the goal\n",
    "        if current_node == end_node:\n",
    "            path = []\n",
    "            current = current_node\n",
    "            while current is not None:\n",
    "                path.append(current.position)\n",
    "                current = current.parent\n",
    "            return path[::-1] # Return reversed path\n",
    "\n",
    "        # Generate children\n",
    "        children = []\n",
    "        \n",
    "        constrains = [(0, -1), (0, 1), (-1, 0), (1, 0), (-1, -1), (-1, 1), (1, -1), (1, 1)]\n",
    "        \n",
    "        for new_position in constrains: # Adjacent squares\n",
    "\n",
    "            # Get node position\n",
    "            node_position = (current_node.position[0] + new_position[0], current_node.position[1] + new_position[1])\n",
    "\n",
    "            # Make sure within range\n",
    "            if node_position[0] > (len(maze) - 1) or node_position[0] < 0 or node_position[1] > (len(maze[len(maze)-1]) -1) or node_position[1] < 0:\n",
    "                continue\n",
    "\n",
    "            # Make sure walkable terrain\n",
    "            if maze[node_position[0]][node_position[1]] != 0:\n",
    "                continue\n",
    "\n",
    "            # Create new node\n",
    "            new_node = Node(current_node, node_position)\n",
    "\n",
    "            # Append\n",
    "            children.append(new_node)\n",
    "\n",
    "        # Loop through children\n",
    "        for child in children:\n",
    "\n",
    "            # Child is on the closed list\n",
    "            for closed_child in closed_list:\n",
    "                if child == closed_child:\n",
    "                    continue\n",
    "\n",
    "            # Create the f, g, and h values\n",
    "            child.g = current_node.g + 1\n",
    "            child.h = ((child.position[0] - end_node.position[0]) ** 2) + ((child.position[1] - end_node.position[1]) ** 2)\n",
    "            child.f = child.g + child.h\n",
    "\n",
    "            # Child is already in the open list\n",
    "            for open_node in open_list:\n",
    "                if child == open_node and child.g > open_node.g:\n",
    "                    continue\n",
    "\n",
    "            # Add the child to the open list\n",
    "            open_list.append(child)"
   ]
  },
  {
   "cell_type": "code",
   "execution_count": 3,
   "metadata": {},
   "outputs": [],
   "source": [
    "maze = [[0, 0, 0, 0, 0, 0, 0, 0],\n",
    "        [0, 0, 0, 0, 0, 0, 0, 0],\n",
    "        [0, 0, 0, 0, 0, 0, 0, 0],\n",
    "        [0, 0, 1, 1, 1, 1, 1, 0],\n",
    "        [0, 1, 0, 0, 0, 0, 0, 0],\n",
    "        [0, 0, 1, 0, 0, 0, 1, 0],\n",
    "        [0, 0, 0, 0, 0, 0, 0, 0],\n",
    "        [0, 0, 0, 0, 0, 0, 0, 0]]\n",
    "\n",
    "start = (5, 3)\n",
    "end = (2, 2)"
   ]
  },
  {
   "cell_type": "code",
   "execution_count": 4,
   "metadata": {},
   "outputs": [
    {
     "name": "stdout",
     "output_type": "stream",
     "text": [
      "Possible shortest path: [(5, 3), (4, 2), (3, 1), (2, 2)]\n"
     ]
    },
    {
     "data": {
      "text/plain": [
       "[[0, 0, 0, 0, 0, 0, 0, 0],\n",
       " [0, 0, 0, 0, 0, 0, 0, 0],\n",
       " [0, 0, '*', 0, 0, 0, 0, 0],\n",
       " [0, '*', 1, 1, 1, 1, 1, 0],\n",
       " [0, 1, '*', 0, 0, 0, 0, 0],\n",
       " [0, 0, 1, '*', 0, 0, 1, 0],\n",
       " [0, 0, 0, 0, 0, 0, 0, 0],\n",
       " [0, 0, 0, 0, 0, 0, 0, 0]]"
      ]
     },
     "execution_count": 4,
     "metadata": {},
     "output_type": "execute_result"
    }
   ],
   "source": [
    "path = Astar(maze, start, end)\n",
    "\n",
    "patt = maze.copy()\n",
    "\n",
    "for element in path:\n",
    "    patt[element[0]][element[1]] = \"*\"\n",
    "\n",
    "print(\"Possible shortest path:\", path)\n",
    "patt "
   ]
  },
  {
   "cell_type": "markdown",
   "metadata": {},
   "source": [
    "Refereneces :   "
   ]
  },
  {
   "cell_type": "markdown",
   "metadata": {},
   "source": [
    " URL : https://gist.github.com/Nicholas-Swift/003e1932ef2804bebef2710527008f44"
   ]
  }
 ],
 "metadata": {
  "kernelspec": {
   "display_name": "Python 3",
   "language": "python",
   "name": "python3"
  },
  "language_info": {
   "codemirror_mode": {
    "name": "ipython",
    "version": 3
   },
   "file_extension": ".py",
   "mimetype": "text/x-python",
   "name": "python",
   "nbconvert_exporter": "python",
   "pygments_lexer": "ipython3",
   "version": "3.8.3"
  }
 },
 "nbformat": 4,
 "nbformat_minor": 4
}
