{
 "cells": [
  {
   "cell_type": "code",
   "execution_count": 1,
   "metadata": {},
   "outputs": [
    {
     "name": "stdout",
     "output_type": "stream",
     "text": [
      "Collecting easyAI\n",
      "  Downloading easyAI-1.0.0.4.tar.gz (27 kB)\n",
      "Building wheels for collected packages: easyAI\n",
      "  Building wheel for easyAI (setup.py): started\n",
      "  Building wheel for easyAI (setup.py): finished with status 'done'\n",
      "  Created wheel for easyAI: filename=easyAI-1.0.0.4-py2.py3-none-any.whl size=41957 sha256=a0d46c5c55fdc0b70219fdbab0e110f431fcd17227895c2b5e3c8a208812c893\n",
      "  Stored in directory: c:\\users\\athul\\appdata\\local\\pip\\cache\\wheels\\1b\\db\\a3\\fc51457cb052d9add6c8c178a5918c704f4234680db5e4a259\n",
      "Successfully built easyAI\n",
      "Installing collected packages: easyAI\n",
      "Successfully installed easyAI-1.0.0.4\n"
     ]
    }
   ],
   "source": [
    "!pip install easyAI"
   ]
  },
  {
   "cell_type": "code",
   "execution_count": 3,
   "metadata": {},
   "outputs": [
    {
     "name": "stdout",
     "output_type": "stream",
     "text": [
      "20 bones left in the pile\n",
      "\n",
      "Player 1 what do you play ? 2\n",
      "\n",
      "Move #1: player 1 plays 2 :\n",
      "18 bones left in the pile\n",
      "\n",
      "Move #2: player 2 plays 1 :\n",
      "17 bones left in the pile\n",
      "\n",
      "Player 1 what do you play ? 10\n",
      "\n",
      "Player 1 what do you play ? 9\n",
      "\n",
      "Player 1 what do you play ? 5\n",
      "\n",
      "Player 1 what do you play ? 2\n",
      "\n",
      "Move #3: player 1 plays 2 :\n",
      "15 bones left in the pile\n",
      "\n",
      "Move #4: player 2 plays 2 :\n",
      "13 bones left in the pile\n",
      "\n",
      "Player 1 what do you play ? 1\n",
      "\n",
      "Move #5: player 1 plays 1 :\n",
      "12 bones left in the pile\n",
      "\n",
      "Move #6: player 2 plays 3 :\n",
      "9 bones left in the pile\n",
      "\n",
      "Player 1 what do you play ? 0\n",
      "\n",
      "Player 1 what do you play ? 4\n",
      "\n",
      "Player 1 what do you play ? 3\n",
      "\n",
      "Move #7: player 1 plays 3 :\n",
      "6 bones left in the pile\n",
      "\n",
      "Move #8: player 2 plays 1 :\n",
      "5 bones left in the pile\n",
      "\n",
      "Player 1 what do you play ? 1\n",
      "\n",
      "Move #9: player 1 plays 1 :\n",
      "4 bones left in the pile\n",
      "\n",
      "Move #10: player 2 plays 3 :\n",
      "1 bones left in the pile\n",
      "\n",
      "Player 1 what do you play ? 1\n",
      "\n",
      "Move #11: player 1 plays 1 :\n",
      "0 bones left in the pile\n"
     ]
    }
   ],
   "source": [
    "from easyAI import TwoPlayersGame, Human_Player, AI_Player, Negamax\n",
    "\n",
    "class GameOfBones( TwoPlayersGame ):\n",
    "    \"\"\" In turn, the players remove one, two or three bones from a\n",
    "    pile of bones. The player who removes the last bone loses. \"\"\"\n",
    "\n",
    "    def __init__(self, players):\n",
    "        self.players = players\n",
    "        self.pile = 20 # start with 20 bones in the pile\n",
    "        self.nplayer = 1 # player 1 starts\n",
    "\n",
    "    def possible_moves(self): return ['1','2','3']\n",
    "    def make_move(self,move): self.pile -= int(move) # remove bones.\n",
    "    def win(self): return self.pile<=0 # opponent took the last bone ?\n",
    "    def is_over(self): return self.win() # Game stops when someone wins.\n",
    "    def show(self): print(self.pile ,\"bones left in the pile\")\n",
    "    def scoring(self): return 100 if self.win() else 0 # For the AI\n",
    "\n",
    "# Start a match (and store the history of moves when it ends)\n",
    "ai = Negamax(13) # The AI will think 13 moves in advance\n",
    "game = GameOfBones( [ Human_Player(), AI_Player(ai) ] )\n",
    "\n",
    "history = game.play()"
   ]
  }
 ],
 "metadata": {
  "kernelspec": {
   "display_name": "Python 3",
   "language": "python",
   "name": "python3"
  },
  "language_info": {
   "codemirror_mode": {
    "name": "ipython",
    "version": 3
   },
   "file_extension": ".py",
   "mimetype": "text/x-python",
   "name": "python",
   "nbconvert_exporter": "python",
   "pygments_lexer": "ipython3",
   "version": "3.8.3"
  }
 },
 "nbformat": 4,
 "nbformat_minor": 4
}
