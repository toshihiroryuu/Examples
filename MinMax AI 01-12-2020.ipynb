{
 "cells": [
  {
   "cell_type": "markdown",
   "metadata": {},
   "source": [
    "## Min Max Algorithm"
   ]
  },
  {
   "cell_type": "markdown",
   "metadata": {},
   "source": [
    "#### Athul Mathew  01-12-2020 AI  -  MinMax Implementation"
   ]
  },
  {
   "cell_type": "markdown",
   "metadata": {},
   "source": [
    "URL : https://www.geeksforgeeks.org/minimax-algorithm-in-game-theory-set-1-introduction/"
   ]
  },
  {
   "cell_type": "code",
   "execution_count": 1,
   "metadata": {},
   "outputs": [
    {
     "name": "stdout",
     "output_type": "stream",
     "text": [
      "The optimal value is : 12\n"
     ]
    }
   ],
   "source": [
    "import math \n",
    "  \n",
    "def minimax (curDepth, nodeIndex, maxTurn, scores,  targetDepth): \n",
    "  \n",
    "    # base case : targetDepth reached \n",
    "    if (curDepth == targetDepth):  \n",
    "        return scores[nodeIndex] \n",
    "      \n",
    "    if (maxTurn): \n",
    "        return max(minimax(curDepth + 1, nodeIndex * 2,  \n",
    "                    False, scores, targetDepth),  \n",
    "                   minimax(curDepth + 1, nodeIndex * 2 + 1,  \n",
    "                    False, scores, targetDepth)) \n",
    "      \n",
    "    else: \n",
    "        return min(minimax(curDepth + 1, nodeIndex * 2,  \n",
    "                     True, scores, targetDepth),  \n",
    "                   minimax(curDepth + 1, nodeIndex * 2 + 1,  \n",
    "                     True, scores, targetDepth)) \n",
    "      \n",
    "# Driver code \n",
    "scores = [3, 5, 2, 9, 12, 5, 23, 23] \n",
    "  \n",
    "treeDepth = math.log(len(scores), 2) \n",
    "  \n",
    "print(\"The optimal value is : \", end = \"\") \n",
    "print(minimax(0, 0, True, scores, treeDepth))"
   ]
  },
  {
   "cell_type": "markdown",
   "metadata": {},
   "source": [
    "URL : https://www.geeksforgeeks.org/minimax-algorithm-in-game-theory-set-2-evaluation-function/?ref=rp"
   ]
  },
  {
   "cell_type": "code",
   "execution_count": 2,
   "metadata": {},
   "outputs": [
    {
     "name": "stdout",
     "output_type": "stream",
     "text": [
      "The value of this board is 10\n"
     ]
    }
   ],
   "source": [
    "# Python3 program to compute evaluation  \n",
    "# function for Tic Tac Toe Game.  \n",
    "  \n",
    "# Returns a value based on who is winning  \n",
    "# b[3][3] is the Tic-Tac-Toe board  \n",
    "def evaluate(b):  \n",
    "   \n",
    "    # Checking for Rows for X or O victory.  \n",
    "    for row in range(0, 3):  \n",
    "       \n",
    "        if b[row][0] == b[row][1] and b[row][1] == b[row][2]:  \n",
    "           \n",
    "            if b[row][0] == 'x': \n",
    "                return 10 \n",
    "            elif b[row][0] == 'o':  \n",
    "                return -10 \n",
    "  \n",
    "    # Checking for Columns for X or O victory.  \n",
    "    for col in range(0, 3):  \n",
    "       \n",
    "        if b[0][col] == b[1][col] and b[1][col] == b[2][col]:  \n",
    "           \n",
    "            if b[0][col]=='x': \n",
    "                return 10 \n",
    "            elif b[0][col] == 'o':  \n",
    "                return -10 \n",
    "  \n",
    "    # Checking for Diagonals for X or O victory.  \n",
    "    if b[0][0] == b[1][1] and b[1][1] == b[2][2]:  \n",
    "       \n",
    "        if b[0][0] == 'x':  \n",
    "            return 10 \n",
    "        elif b[0][0] == 'o':  \n",
    "            return -10 \n",
    "       \n",
    "    if b[0][2] == b[1][1] and b[1][1] == b[2][0]:  \n",
    "       \n",
    "        if b[0][2] == 'x':  \n",
    "            return 10 \n",
    "        elif b[0][2] == 'o':  \n",
    "            return -10 \n",
    "       \n",
    "    # Else if none of them have won then return 0  \n",
    "    return 0 \n",
    "   \n",
    "# Driver code  \n",
    "if __name__ == \"__main__\":  \n",
    "   \n",
    "    board = [['x', '_', 'o'],  \n",
    "             ['_', 'x', 'o'],  \n",
    "             ['_', '_', 'x']]  \n",
    "       \n",
    "    value = evaluate(board)  \n",
    "    print(\"The value of this board is\", value)"
   ]
  },
  {
   "cell_type": "markdown",
   "metadata": {},
   "source": [
    "URL : https://www.geeksforgeeks.org/minimax-algorithm-in-game-theory-set-4-alpha-beta-pruning/?ref=rp"
   ]
  },
  {
   "cell_type": "code",
   "execution_count": 3,
   "metadata": {},
   "outputs": [
    {
     "name": "stdout",
     "output_type": "stream",
     "text": [
      "The optimal value is : 5\n"
     ]
    }
   ],
   "source": [
    "# Python3 program to demonstrate  \n",
    "# working of Alpha-Beta Pruning  \n",
    "  \n",
    "# Initial values of Aplha and Beta  \n",
    "MAX, MIN = 1000, -1000 \n",
    "  \n",
    "# Returns optimal value for current player  \n",
    "#(Initially called for root and maximizer)  \n",
    "def minimax(depth, nodeIndex, maximizingPlayer,  \n",
    "            values, alpha, beta):  \n",
    "   \n",
    "    # Terminating condition. i.e  \n",
    "    # leaf node is reached  \n",
    "    if depth == 3:  \n",
    "        return values[nodeIndex]  \n",
    "  \n",
    "    if maximizingPlayer:  \n",
    "       \n",
    "        best = MIN \n",
    "  \n",
    "        # Recur for left and right children  \n",
    "        for i in range(0, 2):  \n",
    "              \n",
    "            val = minimax(depth + 1, nodeIndex * 2 + i,  \n",
    "                          False, values, alpha, beta)  \n",
    "            best = max(best, val)  \n",
    "            alpha = max(alpha, best)  \n",
    "  \n",
    "            # Alpha Beta Pruning  \n",
    "            if beta <= alpha:  \n",
    "                break \n",
    "           \n",
    "        return best  \n",
    "       \n",
    "    else: \n",
    "        best = MAX \n",
    "  \n",
    "        # Recur for left and  \n",
    "        # right children  \n",
    "        for i in range(0, 2):  \n",
    "           \n",
    "            val = minimax(depth + 1, nodeIndex * 2 + i,  \n",
    "                            True, values, alpha, beta)  \n",
    "            best = min(best, val)  \n",
    "            beta = min(beta, best)  \n",
    "  \n",
    "            # Alpha Beta Pruning  \n",
    "            if beta <= alpha:  \n",
    "                break \n",
    "           \n",
    "        return best  \n",
    "       \n",
    "# Driver Code  \n",
    "if __name__ == \"__main__\":  \n",
    "   \n",
    "    values = [3, 5, 6, 9, 1, 2, 0, -1]   \n",
    "    print(\"The optimal value is :\", minimax(0, 0, True, values, MIN, MAX)) "
   ]
  },
  {
   "cell_type": "code",
   "execution_count": null,
   "metadata": {},
   "outputs": [],
   "source": []
  }
 ],
 "metadata": {
  "kernelspec": {
   "display_name": "Python 3",
   "language": "python",
   "name": "python3"
  },
  "language_info": {
   "codemirror_mode": {
    "name": "ipython",
    "version": 3
   },
   "file_extension": ".py",
   "mimetype": "text/x-python",
   "name": "python",
   "nbconvert_exporter": "python",
   "pygments_lexer": "ipython3",
   "version": "3.8.3"
  }
 },
 "nbformat": 4,
 "nbformat_minor": 4
}
