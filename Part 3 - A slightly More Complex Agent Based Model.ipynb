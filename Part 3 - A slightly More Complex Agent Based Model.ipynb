{
 "cells": [
  {
   "cell_type": "markdown",
   "metadata": {},
   "source": [
    "# Part 3: A Slightly More Complex Agent Based Model \n",
    "\n",
    "##### Authors: Bill Thompson (biltho@mpi.nl) and Limor Raviv (limor.raviv@mpi.nl) \n",
    "Please let us know if you have any comments, suggestions or questions regarding this notebook. \n",
    "\n",
    "---------------\n",
    "\n",
    "## Summary\n",
    "In this third tutorial, we will build a more complex simulation of agents using the commands in the second notebook, making our agents and their interactions a bit more ecologically valid. \n",
    "\n",
    "The major differences between these models are:\n",
    "1. Instead of having agents with simple binary representaions (either [a] or [i]), agents in this model will have a continuous distribution around their prefered vowel.\n",
    "2. The interactions in this model will be double-sided, so that both agents change their behavior after interacting.\n",
    "3. Agents' personalities will be less rigid, allowing for more interesting changes during interaction: stubborn agents will align a little bit (instead of not at all), while flexible agents will align to a greater extent (but not fully).\n",
    "\n",
    "We will make multiple simulations of interactions under different conditions, and see how this affects the distribution of vowels in the population. \n",
    "\n",
    "\n",
    "-------------- \n",
    "\n",
    "\n",
    "### 1. Setting up the network\n",
    "First, let's create lists containing the possible biases for our agents. In this more complex model, agents have a range of possible vowels they can produce, which is distributed normally around a mean value on a single dimension. In this example, a mean of \"-1\" will correspond to [a] and a mean of \"1\" will corresponf to [i]."
   ]
  },
  {
   "cell_type": "code",
   "execution_count": 1,
   "metadata": {},
   "outputs": [],
   "source": [
    "# Set the model Parameters\n",
    "\n",
    "vowel_means = [-1., 1.] # set possible inital means for the distributions\n",
    "\n",
    "personalities = ['F', 'S']"
   ]
  },
  {
   "cell_type": "code",
   "execution_count": 2,
   "metadata": {},
   "outputs": [],
   "source": [
    "# Create a function that makes a single agent\n",
    "\n",
    "def make_agent(vowel_mean, personality):\n",
    "    return [vowel_mean, personality]\n"
   ]
  },
  {
   "cell_type": "code",
   "execution_count": 3,
   "metadata": {},
   "outputs": [
    {
     "data": {
      "text/plain": [
       "[[1.0, 'S'],\n",
       " [-1.0, 'F'],\n",
       " [-1.0, 'F'],\n",
       " [1.0, 'F'],\n",
       " [-1.0, 'F'],\n",
       " [-1.0, 'F'],\n",
       " [-1.0, 'S'],\n",
       " [-1.0, 'S']]"
      ]
     },
     "execution_count": 3,
     "metadata": {},
     "output_type": "execute_result"
    }
   ],
   "source": [
    "# Create a function that makes a population of random agents\n",
    "\n",
    "import random\n",
    "\n",
    "def make_population(N):\n",
    "    \n",
    "    population = []\n",
    "    \n",
    "    for i in range(N):\n",
    "        \n",
    "        m = random.randint(0,1)\n",
    "        \n",
    "        p = random.randint(0,1)\n",
    "        \n",
    "        agent = make_agent(vowel_means[m], personalities[p])\n",
    "        \n",
    "        population.append(agent)\n",
    "\n",
    "    return population\n",
    "\n",
    "\n",
    "# Check that this works by making a population of 8 agents\n",
    "make_population(8)\n"
   ]
  },
  {
   "cell_type": "markdown",
   "metadata": {},
   "source": [
    "### 2. Introducing more complex interactions\n",
    "So far, this looked similar to our simple model, but now it's time to introduce some new features."
   ]
  },
  {
   "cell_type": "markdown",
   "metadata": {},
   "source": [
    "Because we want our agents to have more complex representations, we also need to write a function that selects a specific vowel from the distribution implied by the agent's mean,  for each interaction."
   ]
  },
  {
   "cell_type": "code",
   "execution_count": 4,
   "metadata": {},
   "outputs": [
    {
     "name": "stdout",
     "output_type": "stream",
     "text": [
      "The agent's mean was -1.0\n",
      "The agent's chosen utterance is -0.7196631376735352\n"
     ]
    }
   ],
   "source": [
    "# Create a function that chooses a variant from a distribution centered around the agent's mean vowel\n",
    "\n",
    "from copy import deepcopy \n",
    "from numpy.random import normal\n",
    "import numpy\n",
    "\n",
    "def choose_utterance(agent):   # sample from a normal distribution with SD=0.25 and mean of the teacher\n",
    "    agent_utterance=normal(agent[0],.25)\n",
    "    return agent_utterance\n",
    "\n",
    "# Let's check that this works\n",
    "# You can run this multiple times to see different chosen utterances for different agents\n",
    "\n",
    "pop=make_population(4)\n",
    "vowel = choose_utterance(pop[0])\n",
    "print(\"The agent's mean was\", pop[0][0])\n",
    "print(\"The agent's chosen utterance is\", vowel)"
   ]
  },
  {
   "cell_type": "markdown",
   "metadata": {},
   "source": [
    "In this new model, being flexible means that the agent shifts their vowel towards the other agents' utterance (by half of the distance between the mean and the utterance). This just means flexible agents adapt by going half way towards the other agent. "
   ]
  },
  {
   "cell_type": "markdown",
   "metadata": {},
   "source": [
    "In addition, stubborn agents are not completey stubborn and are only adapting by a little bit (by 1/10 of the distance between their mean and the other agent's utterance)."
   ]
  },
  {
   "cell_type": "markdown",
   "metadata": {},
   "source": [
    "Let's try to write this function that changes the agents means according to their biased personalities, using simple conditions:"
   ]
  },
  {
   "cell_type": "code",
   "execution_count": 5,
   "metadata": {},
   "outputs": [
    {
     "name": "stdout",
     "output_type": "stream",
     "text": [
      "[-0.8, 'S']\n",
      "[0.0, 'F']\n"
     ]
    }
   ],
   "source": [
    "# Create a function that shifts the means of a flexible agent\n",
    "\n",
    "def learn(utterance,agent):\n",
    "    if agent[1] == \"F\":\n",
    "        new_mean = (agent[0] + utterance) / 2.\n",
    "    else:\n",
    "        difference = abs(utterance-agent[0])\n",
    "        if utterance > agent[0]:\n",
    "            new_mean = agent[0] + (difference/10.)\n",
    "        else:\n",
    "            new_mean = agent[0] - (difference/10.)\n",
    "    agent[0] = deepcopy(new_mean)\n",
    "\n",
    "\n",
    "# Check that this works\n",
    "\n",
    "# Create two agents with a mean of 1\n",
    "stb_agent = [-1,'S']\n",
    "flex_agent = [-1,'F']\n",
    "\n",
    "# See what happens when each agent learns from an untterance of -1 (the other vowel)\n",
    "learn(1,stb_agent)\n",
    "learn(1,flex_agent)\n",
    "\n",
    "print(stb_agent)\n",
    "print(flex_agent)"
   ]
  },
  {
   "cell_type": "markdown",
   "metadata": {},
   "source": [
    "Now, we want both agents to update their representations after an interaction. This means that instead of having single-sided interactions with a listener and a producer, we now have an exchange of productions between the two agents in which each can learn from each other... "
   ]
  },
  {
   "cell_type": "markdown",
   "metadata": {},
   "source": [
    "For this, we'll write a new function that updates both agents based on their current utterances:"
   ]
  },
  {
   "cell_type": "code",
   "execution_count": 6,
   "metadata": {},
   "outputs": [],
   "source": [
    "# Create a function in which both agents generate utterances and can learn from each other \n",
    "\n",
    "def interact(agent1,agent2): \n",
    "    \n",
    "    agent1_utterance = choose_utterance(agent1)\n",
    "    agent2_utterance = choose_utterance(agent2)\n",
    "    \n",
    "    if agent1[0] == agent2[0]:\n",
    "        pass # do nothing if the two agents have the same distributions \n",
    "    else:\n",
    "        learn(agent2_utterance,agent1)\n",
    "        learn(agent1_utterance, agent2)\n",
    "    #return agent1_utterance, agent2_utterance, agent1, agent2\n",
    "        \n",
    "\n",
    "# Check if it works by uncommenting the \"return\" comment above \n",
    "\n",
    "# interact([-1,'F'],[1,'S'])"
   ]
  },
  {
   "cell_type": "markdown",
   "metadata": {},
   "source": [
    "### 3. Simulation time!\n",
    "Great! Now we have a double-sided interaction, and we can write a function that chooses random pairs from a populations, and then simulate multiple interactions between different agents."
   ]
  },
  {
   "cell_type": "code",
   "execution_count": 7,
   "metadata": {},
   "outputs": [],
   "source": [
    "# Create a function that chooses two agents from a population\n",
    "from numpy.random import choice\n",
    "\n",
    "def choose_pair(population):\n",
    "    i = random.randint(0, len(population) - 1) # phyton counts from 0, so pop(8) is an error\n",
    "    j = random.randint(0, len(population) - 1)\n",
    "    \n",
    "    while i == j:\n",
    "        j = random.randint(0, len(population) - 1)\n",
    "        \n",
    "    return population[i], population[j]\n",
    "\n",
    "# Create a function that simulates k interactions in a population of n agents\n",
    "\n",
    "def simulate(n, k):\n",
    "    \n",
    "    initial_population = make_population(n)\n",
    "    population=deepcopy(initial_population)\n",
    "    \n",
    "    for i in range(k):\n",
    "        \n",
    "        pair = choose_pair(population)\n",
    "        print(pair)\n",
    "        interact(pair)\n",
    "    \n",
    "    return initial_population, population"
   ]
  },
  {
   "cell_type": "markdown",
   "metadata": {},
   "source": [
    "Let's test that our simulation is working by looking at the results. Feel free to change the number of agents and the number of interactions as you please."
   ]
  },
  {
   "cell_type": "code",
   "execution_count": 8,
   "metadata": {},
   "outputs": [
    {
     "name": "stdout",
     "output_type": "stream",
     "text": [
      "([1.0, 'F'], [1.0, 'S'])\n"
     ]
    },
    {
     "ename": "TypeError",
     "evalue": "interact() missing 1 required positional argument: 'agent2'",
     "output_type": "error",
     "traceback": [
      "\u001b[1;31m---------------------------------------------------------------------------\u001b[0m",
      "\u001b[1;31mTypeError\u001b[0m                                 Traceback (most recent call last)",
      "\u001b[1;32m<ipython-input-8-25921439041a>\u001b[0m in \u001b[0;36m<module>\u001b[1;34m\u001b[0m\n\u001b[0;32m      1\u001b[0m \u001b[1;31m# Run a simulation with 200 agents and 2000 interactions\u001b[0m\u001b[1;33m\u001b[0m\u001b[1;33m\u001b[0m\u001b[1;33m\u001b[0m\u001b[0m\n\u001b[0;32m      2\u001b[0m \u001b[1;33m\u001b[0m\u001b[0m\n\u001b[1;32m----> 3\u001b[1;33m \u001b[0minitial_population\u001b[0m\u001b[1;33m,\u001b[0m \u001b[0mnew_population\u001b[0m \u001b[1;33m=\u001b[0m \u001b[0msimulate\u001b[0m\u001b[1;33m(\u001b[0m\u001b[1;36m200\u001b[0m\u001b[1;33m,\u001b[0m\u001b[1;36m2000\u001b[0m\u001b[1;33m)\u001b[0m\u001b[1;33m\u001b[0m\u001b[1;33m\u001b[0m\u001b[0m\n\u001b[0m\u001b[0;32m      4\u001b[0m \u001b[1;33m\u001b[0m\u001b[0m\n\u001b[0;32m      5\u001b[0m \u001b[0mprint\u001b[0m\u001b[1;33m(\u001b[0m\u001b[1;34m\"The initial population was\"\u001b[0m\u001b[1;33m,\u001b[0m \u001b[0minitial_population\u001b[0m\u001b[1;33m)\u001b[0m\u001b[1;33m\u001b[0m\u001b[1;33m\u001b[0m\u001b[0m\n",
      "\u001b[1;32m<ipython-input-7-1df84d59ac5b>\u001b[0m in \u001b[0;36msimulate\u001b[1;34m(n, k)\u001b[0m\n\u001b[0;32m     22\u001b[0m         \u001b[0mpair\u001b[0m \u001b[1;33m=\u001b[0m \u001b[0mchoose_pair\u001b[0m\u001b[1;33m(\u001b[0m\u001b[0mpopulation\u001b[0m\u001b[1;33m)\u001b[0m\u001b[1;33m\u001b[0m\u001b[1;33m\u001b[0m\u001b[0m\n\u001b[0;32m     23\u001b[0m         \u001b[0mprint\u001b[0m\u001b[1;33m(\u001b[0m\u001b[0mpair\u001b[0m\u001b[1;33m)\u001b[0m\u001b[1;33m\u001b[0m\u001b[1;33m\u001b[0m\u001b[0m\n\u001b[1;32m---> 24\u001b[1;33m         \u001b[0minteract\u001b[0m\u001b[1;33m(\u001b[0m\u001b[0mpair\u001b[0m\u001b[1;33m)\u001b[0m\u001b[1;33m\u001b[0m\u001b[1;33m\u001b[0m\u001b[0m\n\u001b[0m\u001b[0;32m     25\u001b[0m \u001b[1;33m\u001b[0m\u001b[0m\n\u001b[0;32m     26\u001b[0m     \u001b[1;32mreturn\u001b[0m \u001b[0minitial_population\u001b[0m\u001b[1;33m,\u001b[0m \u001b[0mpopulation\u001b[0m\u001b[1;33m\u001b[0m\u001b[1;33m\u001b[0m\u001b[0m\n",
      "\u001b[1;31mTypeError\u001b[0m: interact() missing 1 required positional argument: 'agent2'"
     ]
    }
   ],
   "source": [
    "# Run a simulation with 200 agents and 2000 interactions\n",
    "\n",
    "initial_population, new_population = simulate(200,2000)\n",
    "\n",
    "print(\"The initial population was\", initial_population)\n",
    "print(\"The new population is\", new_population)\n",
    "\n",
    "# Plot the agents' initial and final means\n",
    "\n",
    "%matplotlib inline \n",
    "# put plot in the notebook\n",
    "import matplotlib.pyplot as plt # importing a plotting library\n",
    "import seaborn as sns # make the plot look better\n",
    "\n",
    "initial_means = []\n",
    "final_means = []\n",
    "\n",
    "for agent in range(len(initial_population)):\n",
    "    initial_means.append(initial_population[agent][0])\n",
    "    final_means.append(new_population[agent][0])\n",
    "    \n",
    "plt.hist(initial_means, label='initial means')\n",
    "plt.hist(final_means, label='final means')\n",
    "plt.legend(loc='upper center')\n",
    "plt.show()  "
   ]
  },
  {
   "cell_type": "markdown",
   "metadata": {},
   "source": [
    "In the plot above, the clustering of orange agents (final population) shows convergence, while the spread distribution (blue, initial population) implies divergence.\n",
    "\n",
    "In most simulations, you'll see convergence."
   ]
  },
  {
   "cell_type": "markdown",
   "metadata": {},
   "source": [
    "But since as you've seen, each simulation yields different outcomes in terms of which variant agents have converged on, we need to run multiple simulations and compute their mean to get a more reliable picture of what's happening. So let's make a function that computes the final means of several simulations."
   ]
  },
  {
   "cell_type": "code",
   "execution_count": null,
   "metadata": {},
   "outputs": [],
   "source": [
    "# Create a function to compute the means of the vowels in the population\n",
    "\n",
    "def compute_mean(population):\n",
    "    t=0.\n",
    "    for agent in population:\n",
    "        t += agent[0]\n",
    "    return t/len(population)\n",
    "\n",
    "# Create a function that runs multiuple simulations and returns the final mean of each of them\n",
    "\n",
    "def batch_simulate(n,k,s): #n=pop size, k=no. of interactions, s=no. of simulations\n",
    "    batch_final=[]\n",
    "    for i in range(s):\n",
    "        initial_population, new_population = simulate(n, k)\n",
    "        new_proportion=compute_mean(new_population)\n",
    "        batch_final.append(new_proportion)\n",
    "    return batch_final\n",
    "        "
   ]
  },
  {
   "cell_type": "markdown",
   "metadata": {},
   "source": [
    "So what's going on? Let's run some simulations! This might take a few minutes to complete."
   ]
  },
  {
   "cell_type": "code",
   "execution_count": null,
   "metadata": {},
   "outputs": [],
   "source": [
    "# Run 500 simulations\n",
    "results = batch_simulate(200,2000,500)\n",
    "\n",
    "# Plot the result\n",
    "\n",
    "plt.hist(results, edgecolor = 'white')\n",
    "plt.xlabel('Final Population Mean Vowel')\n",
    "plt.ylabel('Number of Simulations')"
   ]
  },
  {
   "cell_type": "markdown",
   "metadata": {
    "collapsed": true
   },
   "source": [
    "What you can see in the histogram above is that there is a nice normal distribution around 0. That is, **in most simulations, the population converges on the mean between the two initial variants**. This result is exactly what we expect given prior studies with similar models."
   ]
  },
  {
   "cell_type": "markdown",
   "metadata": {},
   "source": [
    "So let's probe this model a bit more by looking at effect of stubborn agents in the population. "
   ]
  },
  {
   "cell_type": "markdown",
   "metadata": {},
   "source": [
    "As we did in the second tutorial, we will see if the number of stubborn agents affects the trend of convergence towards the mean. Since we changed the agents learn in this model, the result might be different this time. Specifically, stubborn agents in the new model are not longer rigid and can align to a new utterance, just to a lesser degree than flexible agents."
   ]
  },
  {
   "cell_type": "markdown",
   "metadata": {},
   "source": [
    "So let's rewrite the functions defined above so that they created biased populations where we control the number of stubborn agents:"
   ]
  },
  {
   "cell_type": "code",
   "execution_count": null,
   "metadata": {},
   "outputs": [],
   "source": [
    "# Modify the function to make populations of N agents with a given number of stubborn agents (st)\n",
    "\n",
    "def make_population_biased(N,st):\n",
    "    \n",
    "    population = []\n",
    "    \n",
    "    for i in range(st):\n",
    "        \n",
    "        m = random.randint(0,1)\n",
    "        \n",
    "        agent = make_agent(vowel_means[m], personalities[1])\n",
    "        \n",
    "        population.append(agent)\n",
    "    \n",
    "    for i in range(N-st):\n",
    "        \n",
    "        m = random.randint(0,1)\n",
    "        \n",
    "        agent = make_agent(vowel_means[m], personalities[0])\n",
    "        \n",
    "        population.append(agent)\n",
    "\n",
    "    return population\n",
    "\n",
    "\n",
    "\n",
    "# Modify the function so that it calls our biased population \n",
    "\n",
    "def simulate_biased(n, k, st):  #st=no. of stubborn\n",
    "    \n",
    "    initial_population = make_population_biased(n,st)\n",
    "    population=deepcopy(initial_population)\n",
    "    \n",
    "    for i in range(k):\n",
    "        \n",
    "        pair = choose_pair(population)\n",
    "        \n",
    "        interact(pair)\n",
    "        \n",
    "    return initial_population, population"
   ]
  },
  {
   "cell_type": "markdown",
   "metadata": {},
   "source": [
    "We can check that our changes work by simulating one population first. You can change the number of stubborn agents to see how it affects the results."
   ]
  },
  {
   "cell_type": "code",
   "execution_count": null,
   "metadata": {},
   "outputs": [],
   "source": [
    "# Simulate a population with 50 stubborn agents\n",
    "old_pop, new_pop =simulate_biased(200,2000,50)\n",
    "\n",
    "print(\"The initial population was\", old_pop)\n",
    "print(\"The new population is\", new_pop)\n",
    "\n",
    "# Plot the agents' initial and final means\n",
    "\n",
    "initial_means = []\n",
    "final_means = []\n",
    "\n",
    "for agent in range(len(old_pop)):\n",
    "    initial_means.append(old_pop[agent][0])\n",
    "    final_means.append(new_pop[agent][0])\n",
    "    \n",
    "plt.hist(initial_means, label='initial means')\n",
    "plt.hist(final_means, label='final means')\n",
    "plt.legend(loc='upper center')\n",
    "plt.show()  "
   ]
  },
  {
   "cell_type": "markdown",
   "metadata": {},
   "source": [
    "Because we want to look at the degree of convergence and how it is affected by stubborn agents, we need a measure to capture variance, like the standard deviation (SD). For now, we will write a function that stores the SDs of the final means in multiple simulations. This will give us an idea of how diverged the population was after interacting. "
   ]
  },
  {
   "cell_type": "code",
   "execution_count": null,
   "metadata": {},
   "outputs": [],
   "source": [
    "# Create a function to compute the means of the vowels in the population\n",
    "\n",
    "def compute_SD(population):\n",
    "    pop_means=[]\n",
    "    for agent in population:\n",
    "        pop_means.append(deepcopy(agent[0]))\n",
    "    pop_SD= numpy.std(pop_means)\n",
    "    return pop_SD\n",
    "\n",
    "# Rewrite the batch simulation function so that it runs s simulations for each possible proportion of stubborn agents (possible_sts)\n",
    "\n",
    "def batch_simulate_biased(n,k,s): #n-pop size, k=no. of interactions, s=no. of simulations for each bias\n",
    "    \n",
    "    all_results=[]\n",
    "    \n",
    "    possible_sts = [0, int(n / 10.), int(n / 4.), int(n / 2.), int(3*n / 4.), n]\n",
    "    # This time, we'll test 0%, 10%, 25%, 50%, 75% and 100% stubborn agents\n",
    "    \n",
    "    for st in possible_sts:\n",
    "        \n",
    "        print(st)\n",
    "    \n",
    "        current_results = []  # print the progress of the simulations \n",
    "    \n",
    "        for i in range(s):\n",
    "            initial_population, new_population = simulate_biased(n, k, st)\n",
    "            sd = compute_SD(new_population)\n",
    "            current_results.append(sd)\n",
    "        \n",
    "        all_results.append([st,current_results])\n",
    "    \n",
    "    return all_results\n"
   ]
  },
  {
   "cell_type": "markdown",
   "metadata": {},
   "source": [
    "Now, let's run a few simulations with different proportions of stubborn agents, and see what happens:"
   ]
  },
  {
   "cell_type": "code",
   "execution_count": null,
   "metadata": {},
   "outputs": [],
   "source": [
    "# Run 50 simulations of each stubborness proportions in a community of 200 agents \n",
    "results = batch_simulate_biased(200,2000,50)\n"
   ]
  },
  {
   "cell_type": "code",
   "execution_count": null,
   "metadata": {},
   "outputs": [],
   "source": [
    "# Plot the results of the simulations \n",
    "        \n",
    "plt.hist(results[0][1], label='no stubborn agents',edgecolor = 'white')\n",
    "plt.hist(results[1][1], label='20 stubborn agents',edgecolor = 'white')\n",
    "plt.hist(results[2][1], label='50 stubborn agents',edgecolor = 'white')\n",
    "plt.hist(results[3][1], label='100 stubborn agents',edgecolor = 'white')\n",
    "plt.hist(results[4][1], label='150 stubborn agents',edgecolor = 'white')\n",
    "plt.hist(results[5][1], label='200 stubborn agents',edgecolor = 'white')\n",
    "plt.legend(loc='best')\n",
    "plt.xlabel('SD of Final Vowel Distribution in the Population ')\n",
    "plt.ylabel('Number of Simulations')     \n",
    "plt.show()  "
   ]
  },
  {
   "cell_type": "markdown",
   "metadata": {},
   "source": [
    "As you can see, there seems to be no relationship between the degree of variance and the number of stubborn agents in the population, suggesting that all populations converged similarly regardless of how stubborn agents were. Looking at the relatively low SDs, this is presumably because in this new model, 2000 interactions were enough to allow the entire population to converge even if stubborn agents did so slower."
   ]
  },
  {
   "cell_type": "markdown",
   "metadata": {},
   "source": [
    "So let's do something more interesting. Let's look at how convergence varies with **population size**."
   ]
  },
  {
   "cell_type": "markdown",
   "metadata": {},
   "source": [
    "For this, we'll rewrite the function so that it simulates different sizes of populations (n) instead of different proportions of stubborn agents. We'll choose n= 10, 150, 250, 350, 450, 550 and 650. (Feel free to change this as you please)."
   ]
  },
  {
   "cell_type": "code",
   "execution_count": null,
   "metadata": {},
   "outputs": [],
   "source": [
    "# Rewrite the batch simulation function so that it runs s simulations for each possible population size (possible_size)\n",
    "\n",
    "def batch_simulate_size(k,s): # k=no. of interactions, s=no. of simulations for each bias\n",
    "    \n",
    "    all_results=[]\n",
    "    \n",
    "    possible_size = [50, 150, 250, 350, 450, 550, 650]\n",
    "        \n",
    "    for n in possible_size:\n",
    "        \n",
    "        print(n)\n",
    "    \n",
    "        current_results = []  # print the progress of the simulations \n",
    "    \n",
    "        for i in range(s):\n",
    "            initial_population, new_population = simulate(n, k)\n",
    "            sd = compute_SD(new_population)\n",
    "            current_results.append(sd)\n",
    "        \n",
    "        all_results.append([n,current_results])\n",
    "    \n",
    "    return all_results\n"
   ]
  },
  {
   "cell_type": "markdown",
   "metadata": {},
   "source": [
    "Let's run some simulations with different population sizes: "
   ]
  },
  {
   "cell_type": "code",
   "execution_count": null,
   "metadata": {},
   "outputs": [],
   "source": [
    "# Run 50 simulations of each population size\n",
    "results = batch_simulate_size(2000,50)\n"
   ]
  },
  {
   "cell_type": "code",
   "execution_count": null,
   "metadata": {},
   "outputs": [],
   "source": [
    "# Plot the results of the simulations \n",
    "        \n",
    "plt.hist(results[0][1], label='50 agents',edgecolor = 'white')\n",
    "plt.hist(results[1][1], label='150 agents',edgecolor = 'white')\n",
    "plt.hist(results[2][1], label='250 agents',edgecolor = 'white')\n",
    "plt.hist(results[3][1], label='350 agents',edgecolor = 'white')\n",
    "plt.hist(results[4][1], label='450 agents',edgecolor = 'white')\n",
    "plt.hist(results[5][1], label='550 agents',edgecolor = 'white')\n",
    "plt.hist(results[6][1], label='650 agents',edgecolor = 'white')\n",
    "#plt.hist(results[7][1], label='1000 agents',edgecolor = 'white')\n",
    "plt.legend(loc='best')\n",
    "plt.xlabel('SD of Final Vowel Distribution in the Population ')\n",
    "plt.ylabel('Number of Simulations')     \n",
    "plt.show()  "
   ]
  },
  {
   "cell_type": "markdown",
   "metadata": {},
   "source": [
    "This plot shows that population size mediates convergence: given the same number of interactions, smaller populations show lower SDs and therefore higher degrees of convergence. As populations grow, the less converged they are at their final stage. This is reasonable, since bigger populations require more time to reach the same level of connectivity between agents, and have more variance to begin with. "
   ]
  },
  {
   "cell_type": "markdown",
   "metadata": {},
   "source": [
    "Thus, we may predict that given more time to interact, bigger populations will show the same levels of convegrence as smaller populations. We can quickly check this by running a simulation with more interactions (say, 5 times more):"
   ]
  },
  {
   "cell_type": "code",
   "execution_count": null,
   "metadata": {},
   "outputs": [],
   "source": [
    "# Run 50 simulations of each population size\n",
    "results = batch_simulate_size(10000,50)\n"
   ]
  },
  {
   "cell_type": "code",
   "execution_count": null,
   "metadata": {},
   "outputs": [],
   "source": [
    "# Plot the results of the simulations \n",
    "        \n",
    "plt.hist(results[0][1], label='50 agents',edgecolor = 'white')\n",
    "plt.hist(results[1][1], label='150 agents',edgecolor = 'white')\n",
    "plt.hist(results[2][1], label='250 agents',edgecolor = 'white')\n",
    "plt.hist(results[3][1], label='350 agents',edgecolor = 'white')\n",
    "plt.hist(results[4][1], label='450 agents',edgecolor = 'white')\n",
    "plt.hist(results[5][1], label='550 agents',edgecolor = 'white')\n",
    "plt.hist(results[6][1], label='650 agents',edgecolor = 'white')\n",
    "#plt.hist(results[7][1], label='1000 agents',edgecolor = 'white')\n",
    "plt.legend(loc='best')\n",
    "plt.xlabel('SD of Final Vowel Distribution in the Population ')\n",
    "plt.ylabel('Number of Simulations')     \n",
    "plt.show()"
   ]
  },
  {
   "cell_type": "markdown",
   "metadata": {},
   "source": [
    "Indeed, the results show that with more interactions, there is little to no difference between the different-sized populations, and all eventually reach similar levels of convergence. "
   ]
  },
  {
   "cell_type": "markdown",
   "metadata": {},
   "source": [
    "## Wrapping up\n",
    "So you did it! You finished the tutorial and made a model with more complex agents and complex interactions. "
   ]
  },
  {
   "cell_type": "markdown",
   "metadata": {},
   "source": [
    "Hopefully, now you feel confident enough to change different parts of the code, or add your own new features. "
   ]
  },
  {
   "cell_type": "markdown",
   "metadata": {},
   "source": [
    "Good luck with your model!"
   ]
  },
  {
   "cell_type": "markdown",
   "metadata": {},
   "source": [
    "Bill & Limor"
   ]
  }
 ],
 "metadata": {
  "kernelspec": {
   "display_name": "Python 3",
   "language": "python",
   "name": "python3"
  },
  "language_info": {
   "codemirror_mode": {
    "name": "ipython",
    "version": 3
   },
   "file_extension": ".py",
   "mimetype": "text/x-python",
   "name": "python",
   "nbconvert_exporter": "python",
   "pygments_lexer": "ipython3",
   "version": "3.8.3"
  }
 },
 "nbformat": 4,
 "nbformat_minor": 2
}
